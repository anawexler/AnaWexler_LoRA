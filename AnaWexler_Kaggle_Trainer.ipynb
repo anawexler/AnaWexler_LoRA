{
 "cells": [
  {
   "cell_type": "code",
   "execution_count": null,
   "id": "77400d8b",
   "metadata": {},
   "outputs": [],
   "source": [
    "\n",
    "!pip install -q bitsandbytes==0.41.1\n",
    "!pip install -q transformers==4.35.2\n",
    "!pip install -q accelerate==0.27.2\n",
    "!pip install -q safetensors==0.3.3\n",
    "!pip install -q git+https://github.com/kohya-ss/sd-scripts.git\n"
   ]
  },
  {
   "cell_type": "code",
   "execution_count": null,
   "id": "bff87b37",
   "metadata": {},
   "outputs": [],
   "source": [
    "\n",
    "# No Kaggle: use o botão '+ Add Data' à esquerda para enviar o arquivo AnaWexler_LoRA.zip\n"
   ]
  },
  {
   "cell_type": "code",
   "execution_count": null,
   "id": "92070275",
   "metadata": {},
   "outputs": [],
   "source": [
    "\n",
    "import zipfile\n",
    "import os\n",
    "\n",
    "zip_path = \"AnaWexler_LoRA.zip\"\n",
    "extract_path = \"./AnaWexler_LoRA\"\n",
    "\n",
    "with zipfile.ZipFile(zip_path, 'r') as zip_ref:\n",
    "    zip_ref.extractall(extract_path)\n",
    "\n",
    "print(\"Arquivos extraídos com sucesso!\")\n"
   ]
  },
  {
   "cell_type": "code",
   "execution_count": null,
   "id": "0634e570",
   "metadata": {},
   "outputs": [],
   "source": [
    "\n",
    "!accelerate launch train_network.py   --pretrained_model_name_or_path=\"stabilityai/stable-diffusion-2-1-base\"   --train_data_dir=\"./AnaWexler_LoRA\"   --resolution=512,512   --output_dir=\"./output_ana_lora\"   --logging_dir=\"./logs\"   --network_alpha=128   --save_model_as=safetensors   --network_module=networks.lora   --text_encoder_lr=5e-5   --unet_lr=1e-4   --network_dim=128   --output_name=\"ana_wexler_lora\"   --lr_scheduler=\"cosine_with_restarts\"   --learning_rate=1e-4   --train_batch_size=1   --max_train_epochs=20   --mixed_precision=\"fp16\"   --save_every_n_epochs=5   --caption_extension=\".txt\"   --cache_latents   --optimizer_type=\"AdamW8bit\"   --bucket_no_upscale\n"
   ]
  }
 ],
 "metadata": {
  "kernelspec": {
   "display_name": "Python 3",
   "name": "python3"
  }
 },
 "nbformat": 4,
 "nbformat_minor": 5
}
